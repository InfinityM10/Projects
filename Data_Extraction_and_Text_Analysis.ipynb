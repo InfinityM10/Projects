{
  "cells": [
    {
      "cell_type": "code",
      "execution_count": null,
      "metadata": {
        "colab": {
          "base_uri": "https://localhost:8080/"
        },
        "id": "3lNMH1gfF3cF",
        "outputId": "9abcbe91-e441-40fc-969a-f18073584cba"
      },
      "outputs": [
        {
          "output_type": "stream",
          "name": "stderr",
          "text": [
            "[nltk_data] Downloading package punkt to /root/nltk_data...\n",
            "[nltk_data]   Package punkt is already up-to-date!\n",
            "[nltk_data] Downloading package stopwords to /root/nltk_data...\n",
            "[nltk_data]   Package stopwords is already up-to-date!\n"
          ]
        }
      ],
      "source": [
        "#import necessary pacakages\n",
        "import requests\n",
        "from bs4 import BeautifulSoup\n",
        "import pandas as pd\n",
        "import os\n",
        "import nltk\n",
        "from nltk.tokenize import word_tokenize\n",
        "from nltk.corpus import stopwords\n",
        "nltk.download('punkt')\n",
        "nltk.download('stopwords')\n",
        "import re"
      ]
    },
    {
      "cell_type": "code",
      "source": [
        "from google.colab import drive\n",
        "drive.mount('/content/drive')"
      ],
      "metadata": {
        "colab": {
          "base_uri": "https://localhost:8080/"
        },
        "id": "MF8XS5oQimUg",
        "outputId": "8b1b9b40-9949-4396-b834-1fa9e9522771"
      },
      "execution_count": null,
      "outputs": [
        {
          "output_type": "stream",
          "name": "stdout",
          "text": [
            "Drive already mounted at /content/drive; to attempt to forcibly remount, call drive.mount(\"/content/drive\", force_remount=True).\n"
          ]
        }
      ]
    },
    {
      "cell_type": "code",
      "execution_count": null,
      "metadata": {
        "colab": {
          "base_uri": "https://localhost:8080/"
        },
        "id": "AXXMNkOohRgr",
        "outputId": "7005fb9d-f545-48a4-c002-ba4c1976025c"
      },
      "outputs": [
        {
          "output_type": "stream",
          "name": "stdout",
          "text": [
            "can't get response of nan\n",
            "can't get response of nan\n",
            "can't get title of blackassign0036\n",
            "can't get title of blackassign0049\n"
          ]
        }
      ],
      "source": [
        "\n",
        "#read the url file into the pandas object\n",
        "df = pd.read_excel('/content/drive/MyDrive/Data_Extraction_and_Text_Analysis_for_Blackcoffer_company.-main/Input.xlsx')\n",
        "\n",
        "#loop throgh each row in the df\n",
        "for index, row in df.iterrows():\n",
        "  url = row['URL']\n",
        "  url_id = row['URL_ID']\n",
        "\n",
        "  # make a request to url\n",
        "  header = {'User-Agent': \"Mozilla/5.0 (Windows NT 10.0; Win64; x64) AppleWebKit/537.36 (KHTML, like Gecko) Chrome/108.0.0.0 Safari/537.36\"}\n",
        "  try:\n",
        "    response = requests.get(url,headers=header)\n",
        "  except:\n",
        "    print(\"can't get response of {}\".format(url_id))\n",
        "\n",
        "  #create a beautifulsoup object\n",
        "  try:\n",
        "    soup = BeautifulSoup(response.content, 'html.parser')\n",
        "  except:\n",
        "    print(\"can't get page of {}\".format(url_id))\n",
        "  #find title\n",
        "  try:\n",
        "    title = soup.find('h1').get_text()\n",
        "  except:\n",
        "    print(\"can't get title of {}\".format(url_id))\n",
        "    continue\n",
        "  #find text\n",
        "  article = \"\"\n",
        "  try:\n",
        "    for p in soup.find_all('p'):\n",
        "      article += p.get_text()\n",
        "  except:\n",
        "    print(\"can't get text of {}\".format(url_id))\n",
        "\n",
        "  #write title and text to the file\n",
        "  file_name = '/content/drive/MyDrive/Data_Extraction_and_Text_Analysis_for_Blackcoffer_company.-main/TitleText' + str(url_id) + '.txt'\n",
        "  with open(file_name, 'w') as file:\n",
        "    file.write(title + '\\n' + article)"
      ]
    },
    {
      "cell_type": "code",
      "execution_count": null,
      "metadata": {
        "id": "1tRdSv8ErMOm"
      },
      "outputs": [],
      "source": [
        "# Directories\n",
        "text_dir = \"/content/drive/MyDrive/Data_Extraction_and_Text_Analysis_for_Blackcoffer_company.-main/\"\n",
        "stopwords_dir = \"/content/drive/MyDrive/Data_Extraction_and_Text_Analysis_for_Blackcoffer_company.-main/StopWords\"\n",
        "sentment_dir = \"/content/drive/MyDrive/Data_Extraction_and_Text_Analysis_for_Blackcoffer_company.-main/MasterDictionary\"\n",
        "\n",
        "# load all stop wors from the stopwords directory and store in the set variable\n",
        "stop_words = set()\n",
        "for files in os.listdir(stopwords_dir):\n",
        "  with open(os.path.join(stopwords_dir,files),'r',encoding='ISO-8859-1') as f:\n",
        "    stop_words.update(set(f.read().splitlines()))\n",
        "\n",
        "# load all text files  from the  directory and store in a list(docs)\n",
        "docs = []\n",
        "for text_file in os.listdir(text_dir):\n",
        "  # Check if it's a file before trying to open\n",
        "  if os.path.isfile(os.path.join(text_dir, text_file)):\n",
        "    # Try reading with 'latin-1' encoding\n",
        "    with open(os.path.join(text_dir,text_file),'r', encoding='latin-1') as f: # Changed encoding to 'latin-1'\n",
        "      text = f.read()\n",
        "    #tokenize the given text file\n",
        "      words = word_tokenize(text)\n",
        "    # remove the stop words from the tokens\n",
        "      filtered_text = [word for word in words if word.lower() not in stop_words]\n",
        "    # add each filtered tokens of each file into a list\n",
        "      docs.append(filtered_text)\n",
        "\n",
        "\n",
        "\n",
        "# store positive, Negative words from the directory\n",
        "pos=set()\n",
        "neg=set()\n",
        "\n",
        "for files in os.listdir(sentment_dir):\n",
        "  if files =='positive-words.txt':\n",
        "    with open(os.path.join(sentment_dir,files),'r',encoding='ISO-8859-1') as f:\n",
        "      pos.update(f.read().splitlines())\n",
        "  else:\n",
        "    with open(os.path.join(sentment_dir,files),'r',encoding='ISO-8859-1') as f:\n",
        "      neg.update(f.read().splitlines())\n",
        "\n",
        "# now collect the positive  and negative words from each file\n",
        "# calculate the scores from the positive and negative words\n",
        "positive_words = []\n",
        "Negative_words =[]\n",
        "positive_score = []\n",
        "negative_score = []\n",
        "polarity_score = []\n",
        "subjectivity_score = []\n",
        "\n",
        "#iterate through the list of docs\n",
        "for i in range(len(docs)):\n",
        "  positive_words.append([word for word in docs[i] if word.lower() in pos])\n",
        "  Negative_words.append([word for word in docs[i] if word.lower() in neg])\n",
        "  positive_score.append(len(positive_words[i]))\n",
        "  negative_score.append(len(Negative_words[i]))\n",
        "  polarity_score.append((positive_score[i] - negative_score[i]) / ((positive_score[i] + negative_score[i]) + 0.000001))\n",
        "  subjectivity_score.append((positive_score[i] + negative_score[i]) / ((len(docs[i])) + 0.000001))"
      ]
    },
    {
      "cell_type": "code",
      "execution_count": null,
      "metadata": {
        "id": "F8RaMuD_EnQQ"
      },
      "outputs": [],
      "source": [
        "# Directories\n",
        "text_dir = \"/content/drive/MyDrive/Data_Extraction_and_Text_Analysis_for_Blackcoffer_company.-main/\"\n",
        "stopwords_dir = \"/content/drive/MyDrive/Data_Extraction_and_Text_Analysis_for_Blackcoffer_company.-main/StopWords\"\n",
        "sentment_dir = \"/content/drive/MyDrive/Data_Extraction_and_Text_Analysis_for_Blackcoffer_company.-main/MasterDictionary\"\n",
        "\n",
        "# Average Sentence Length = the number of words / the number of sentences\n",
        "# Percentage of Complex words = the number of complex words / the number of words\n",
        "# Fog Index = 0.4 * (Average Sentence Length + Percentage of Complex words)\n",
        "\n",
        "avg_sentence_length = []\n",
        "Percentage_of_Complex_words  =  []\n",
        "Fog_Index = []\n",
        "complex_word_count =  []\n",
        "avg_syllable_word_count =[]\n",
        "\n",
        "# Use nltk's stopwords instead of the variable\n",
        "stop_words = set(nltk.corpus.stopwords.words('english'))\n",
        "def measure(file):\n",
        "  # Explicitly specify the encoding as 'latin-1'\n",
        "  with open(os.path.join(text_dir, file),'r', encoding='latin-1') as f:\n",
        "    text = f.read()\n",
        "# remove punctuations\n",
        "    text = re.sub(r'[^\\w\\s.]','',text)\n",
        "# split the given text file into sentences\n",
        "    sentences = text.split('.')\n",
        "# total number of sentences in a file\n",
        "    num_sentences = len(sentences)\n",
        "# total words in the file\n",
        "    words = [word  for word in text.split() if word.lower() not in stop_words ] # Use stop_words here\n",
        "    num_words = len(words)\n",
        "\n",
        "    # Handle the case when num_words is zero to avoid division by zero\n",
        "    if num_words == 0:\n",
        "      return 0, 0, 0, 0, 0 # Return default values if there are no words\n",
        "\n",
        "# complex words having syllable count is greater than 2\n",
        "# Complex words are words in the text that contain more than two syllables.\n",
        "    complex_words = []\n",
        "    for word in words:\n",
        "      vowels = 'aeiou'\n",
        "      syllable_count_word = sum( 1 for letter in word if letter.lower() in vowels)\n",
        "      if syllable_count_word > 2:\n",
        "        complex_words.append(word)\n",
        "\n",
        "# Syllable Count Per Word\n",
        "# We count the number of Syllables in each word of the text by counting the vowels present in each word.\n",
        "#  We also handle some exceptions like words ending with \"es\",\"ed\" by not counting them as a syllable.\n",
        "    syllable_count = 0\n",
        "    syllable_words =[]\n",
        "    for word in words:\n",
        "      if word.endswith('es'):\n",
        "        word = word[:-2]\n",
        "      elif word.endswith('ed'):\n",
        "        word = word[:-2]\n",
        "      vowels = 'aeiou'\n",
        "      syllable_count_word = sum( 1 for letter in word if letter.lower() in vowels)\n",
        "      if syllable_count_word >= 1:\n",
        "        syllable_words.append(word)\n",
        "        syllable_count += syllable_count_word\n",
        "\n",
        "    # Handle the case where there are no syllable words to avoid division by zero\n",
        "    if len(syllable_words) == 0:\n",
        "      avg_syllable_word_count = 0  # Or any other appropriate default value\n",
        "    else:\n",
        "      avg_syllable_word_count = syllable_count / len(syllable_words)\n",
        "\n",
        "    avg_sentence_len = num_words / num_sentences\n",
        "    Percent_Complex_words  =  len(complex_words) / num_words\n",
        "    Fog_Index = 0.4 * (avg_sentence_len + Percent_Complex_words)\n",
        "\n",
        "    # Return 5 values to match the unpacking\n",
        "    return avg_sentence_len, Percent_Complex_words, Fog_Index, len(complex_words), avg_syllable_word_count\n",
        "\n",
        "# iterate through each file or doc\n",
        "for file in os.listdir(text_dir):\n",
        "  # Check if it's a file before trying to process it\n",
        "  if os.path.isfile(os.path.join(text_dir, file)):\n",
        "    x,y,z,a,b = measure(file)\n",
        "    avg_sentence_length.append(x)\n",
        "    Percentage_of_Complex_words.append(y)\n",
        "    Fog_Index.append(z)\n",
        "    complex_word_count.append(a)  # Assuming you want to store these values\n",
        "    avg_syllable_word_count.append(b)\n"
      ]
    },
    {
      "cell_type": "code",
      "execution_count": null,
      "metadata": {
        "id": "4NElx7d94ICm"
      },
      "outputs": [],
      "source": [
        "def cleaned_words(file):\n",
        "  file_path = os.path.join(text_dir, file)  # Create full file path\n",
        "  # Check if it's a file before trying to open\n",
        "  if os.path.isfile(file_path):\n",
        "    # Explicitly specify the encoding as 'latin-1'\n",
        "    with open(file_path, 'r', encoding='latin-1') as f:\n",
        "      text = f.read()\n",
        "      text = re.sub(r'[^\\w\\s]', '' , text)\n",
        "      # Use nltk's stopwords instead of the variable\n",
        "      words = [word  for word in text.split() if word.lower() not in stop_words]\n",
        "      length = sum(len(word) for word in words)\n",
        "      # Handle the case when there are no words to avoid division by zero\n",
        "      if len(words) == 0:\n",
        "        average_word_length = 0  # Or any other appropriate default value\n",
        "      else:\n",
        "        average_word_length = length / len(words)\n",
        "    return len(words),average_word_length\n",
        "  else:\n",
        "    return 0, 0  # Return default values if it's a directory\n",
        "\n",
        "word_count = []\n",
        "average_word_length = []\n",
        "for file in os.listdir(text_dir):\n",
        "  # Check if it's a file before processing\n",
        "  if os.path.isfile(os.path.join(text_dir, file)):\n",
        "    x, y = cleaned_words(file)\n",
        "    word_count.append(x)\n",
        "    average_word_length.append(y)\n",
        "\n",
        "\n",
        "def count_personal_pronouns(file):\n",
        "  file_path = os.path.join(text_dir, file)  # Construct full file path\n",
        "  # Check if it's a file before trying to open\n",
        "  if os.path.isfile(file_path):\n",
        "    # Explicitly specify the encoding as 'latin-1'\n",
        "    with open(file_path, 'r', encoding='latin-1') as f:\n",
        "      text = f.read()\n",
        "      personal_pronouns = [\"I\", \"we\", \"my\", \"ours\", \"us\"]\n",
        "      count = 0\n",
        "      for pronoun in personal_pronouns:\n",
        "        count += len(re.findall(r\"\\b\" + pronoun + r\"\\b\", text)) # \\b is used to match word boundaries\n",
        "    return count\n",
        "  else:\n",
        "    return 0  # Return 0 if it's a directory\n",
        "\n",
        "pp_count = []\n",
        "for file in os.listdir(text_dir):\n",
        "  # Check if it's a file before processing\n",
        "  if os.path.isfile(os.path.join(text_dir, file)):\n",
        "    x = count_personal_pronouns(file)\n",
        "    pp_count.append(x)"
      ]
    },
    {
      "cell_type": "code",
      "execution_count": null,
      "metadata": {
        "id": "mXsnVluZ9TG3",
        "colab": {
          "base_uri": "https://localhost:8080/"
        },
        "outputId": "7315f471-8bb3-486e-9dad-02c913645f04"
      },
      "outputs": [
        {
          "output_type": "stream",
          "name": "stdout",
          "text": [
            "Warning: Length mismatch for variable at index 0. Expected 100, got 106.\n",
            "Warning: Length mismatch for variable at index 1. Expected 100, got 106.\n",
            "Warning: Length mismatch for variable at index 2. Expected 100, got 106.\n",
            "Warning: Length mismatch for variable at index 3. Expected 100, got 106.\n",
            "Warning: Length mismatch for variable at index 4. Expected 100, got 106.\n",
            "Warning: Length mismatch for variable at index 5. Expected 100, got 106.\n",
            "Warning: Length mismatch for variable at index 6. Expected 100, got 106.\n",
            "Warning: Length mismatch for variable at index 7. Expected 100, got 106.\n",
            "Warning: Length mismatch for variable at index 8. Expected 100, got 106.\n",
            "Warning: Length mismatch for variable at index 9. Expected 100, got 106.\n",
            "Warning: Length mismatch for variable at index 10. Expected 100, got 106.\n",
            "Warning: Length mismatch for variable at index 11. Expected 100, got 106.\n"
          ]
        }
      ],
      "source": [
        "output_df = pd.read_excel('/content/drive/MyDrive/Data_Extraction_and_Text_Analysis_for_Blackcoffer_company.-main/Output Data Structure.xlsx')\n",
        "\n",
        "# URL_ID 44 ,57, 144 does not exists i,e. page does not exist, throughs 404 error\n",
        "# so we are going to drop these rows from the table\n",
        "output_df.drop(output_df[output_df['URL_ID'].isin([44, 57, 144])].index, inplace=True)\n",
        "\n",
        "# These are the required parameters\n",
        "variables = [positive_score,\n",
        "            negative_score,\n",
        "            polarity_score,\n",
        "            subjectivity_score,\n",
        "            avg_sentence_length,\n",
        "            Percentage_of_Complex_words,\n",
        "            Fog_Index,\n",
        "            # avg_sentence_length,  # This was duplicated, removing one\n",
        "            complex_word_count,\n",
        "            word_count,\n",
        "            avg_syllable_word_count,\n",
        "            pp_count,\n",
        "            average_word_length]\n",
        "\n",
        "# Check lengths and adjust if necessary\n",
        "for i, var in enumerate(variables):\n",
        "  if len(var) != len(output_df):\n",
        "    print(f\"Warning: Length mismatch for variable at index {i}. Expected {len(output_df)}, got {len(var)}.\")\n",
        "    # Truncate the list to match the DataFrame length:\n",
        "    var = var[:len(output_df)]\n",
        "    variables[i] = var # Update the variables list\n",
        "\n",
        "# write the values to the dataframe\n",
        "for i, var in enumerate(variables):\n",
        "  output_df.iloc[:,i+2] = var # Assuming you want to start writing from the third column\n",
        "\n",
        "#now save the dataframe to the disk\n",
        "output_df.to_csv('/content/drive/MyDrive/Data_Extraction_and_Text_Analysis_for_Blackcoffer_company.-main/Output_Data.csv')"
      ]
    }
  ],
  "metadata": {
    "colab": {
      "provenance": []
    },
    "gpuClass": "standard",
    "kernelspec": {
      "display_name": "Python 3",
      "name": "python3"
    },
    "language_info": {
      "name": "python",
      "version": "3.10.3"
    }
  },
  "nbformat": 4,
  "nbformat_minor": 0
}